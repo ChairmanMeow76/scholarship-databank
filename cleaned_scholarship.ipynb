{
 "cells": [
  {
   "cell_type": "code",
   "execution_count": 1,
   "metadata": {},
   "outputs": [],
   "source": [
    "import pandas as pd\n",
    "import numpy as np"
   ]
  },
  {
   "cell_type": "code",
   "execution_count": 2,
   "metadata": {},
   "outputs": [],
   "source": [
    "df = pd.read_csv('scholarship_data.csv')"
   ]
  },
  {
   "cell_type": "code",
   "execution_count": 3,
   "metadata": {},
   "outputs": [
    {
     "data": {
      "text/html": [
       "<div>\n",
       "<style scoped>\n",
       "    .dataframe tbody tr th:only-of-type {\n",
       "        vertical-align: middle;\n",
       "    }\n",
       "\n",
       "    .dataframe tbody tr th {\n",
       "        vertical-align: top;\n",
       "    }\n",
       "\n",
       "    .dataframe thead th {\n",
       "        text-align: right;\n",
       "    }\n",
       "</style>\n",
       "<table border=\"1\" class=\"dataframe\">\n",
       "  <thead>\n",
       "    <tr style=\"text-align: right;\">\n",
       "      <th></th>\n",
       "      <th>Name</th>\n",
       "      <th>Auto number</th>\n",
       "      <th>Program check</th>\n",
       "      <th>Program name</th>\n",
       "      <th>Type of Opportunity</th>\n",
       "      <th>Annual scholarship?</th>\n",
       "      <th>Study level</th>\n",
       "      <th>Host Country</th>\n",
       "      <th>Discipline</th>\n",
       "      <th>Value</th>\n",
       "      <th>Note</th>\n",
       "      <th>Link</th>\n",
       "      <th>Deadline?</th>\n",
       "      <th>Date updated</th>\n",
       "      <th>Checked?</th>\n",
       "    </tr>\n",
       "  </thead>\n",
       "  <tbody>\n",
       "    <tr>\n",
       "      <th>0</th>\n",
       "      <td>NaN</td>\n",
       "      <td>357</td>\n",
       "      <td>NaN</td>\n",
       "      <td>NaN</td>\n",
       "      <td>NaN</td>\n",
       "      <td>NaN</td>\n",
       "      <td>NaN</td>\n",
       "      <td>NaN</td>\n",
       "      <td>NaN</td>\n",
       "      <td>NaN</td>\n",
       "      <td>NaN</td>\n",
       "      <td>NaN</td>\n",
       "      <td>NaN</td>\n",
       "      <td>NaN</td>\n",
       "      <td>NaN</td>\n",
       "    </tr>\n",
       "    <tr>\n",
       "      <th>1</th>\n",
       "      <td>NaN</td>\n",
       "      <td>1439</td>\n",
       "      <td>NaN</td>\n",
       "      <td>NaN</td>\n",
       "      <td>NaN</td>\n",
       "      <td>NaN</td>\n",
       "      <td>NaN</td>\n",
       "      <td>Norway</td>\n",
       "      <td>NaN</td>\n",
       "      <td>NaN</td>\n",
       "      <td>NaN</td>\n",
       "      <td>NaN</td>\n",
       "      <td>NaN</td>\n",
       "      <td>NaN</td>\n",
       "      <td>NaN</td>\n",
       "    </tr>\n",
       "    <tr>\n",
       "      <th>2</th>\n",
       "      <td>Aarhus BS</td>\n",
       "      <td>1231</td>\n",
       "      <td>NaN</td>\n",
       "      <td>Aarhus BS</td>\n",
       "      <td>University-sponsor Scholarship</td>\n",
       "      <td>checked</td>\n",
       "      <td>Master</td>\n",
       "      <td>Denmark</td>\n",
       "      <td>Business and finance</td>\n",
       "      <td>less than 50% tuition fee ,100% tuition fee</td>\n",
       "      <td>NaN</td>\n",
       "      <td>http://bss.au.dk/en/programmes/master/</td>\n",
       "      <td>October</td>\n",
       "      <td>20/9/2017</td>\n",
       "      <td>NaN</td>\n",
       "    </tr>\n",
       "  </tbody>\n",
       "</table>\n",
       "</div>"
      ],
      "text/plain": [
       "        Name  Auto number Program check Program name  \\\n",
       "0        NaN          357           NaN          NaN   \n",
       "1        NaN         1439           NaN          NaN   \n",
       "2  Aarhus BS         1231           NaN    Aarhus BS   \n",
       "\n",
       "              Type of Opportunity Annual scholarship? Study level  \\\n",
       "0                             NaN                 NaN         NaN   \n",
       "1                             NaN                 NaN         NaN   \n",
       "2  University-sponsor Scholarship             checked      Master   \n",
       "\n",
       "  Host Country            Discipline  \\\n",
       "0          NaN                   NaN   \n",
       "1       Norway                   NaN   \n",
       "2      Denmark  Business and finance   \n",
       "\n",
       "                                         Value Note  \\\n",
       "0                                          NaN  NaN   \n",
       "1                                          NaN  NaN   \n",
       "2  less than 50% tuition fee ,100% tuition fee  NaN   \n",
       "\n",
       "                                     Link Deadline? Date updated Checked?  \n",
       "0                                     NaN       NaN          NaN      NaN  \n",
       "1                                     NaN       NaN          NaN      NaN  \n",
       "2  http://bss.au.dk/en/programmes/master/   October    20/9/2017      NaN  "
      ]
     },
     "execution_count": 3,
     "metadata": {},
     "output_type": "execute_result"
    }
   ],
   "source": [
    "df.head(3)"
   ]
  },
  {
   "cell_type": "code",
   "execution_count": 4,
   "metadata": {},
   "outputs": [
    {
     "data": {
      "text/plain": [
       "array(['Name', 'Auto number', 'Program check', 'Program name',\n",
       "       'Type of Opportunity', 'Annual scholarship?', 'Study level',\n",
       "       'Host Country', 'Discipline', 'Value', 'Note', 'Link', 'Deadline?',\n",
       "       'Date updated', 'Checked?'], dtype=object)"
      ]
     },
     "execution_count": 4,
     "metadata": {},
     "output_type": "execute_result"
    }
   ],
   "source": [
    "df.columns.values"
   ]
  },
  {
   "cell_type": "code",
   "execution_count": 5,
   "metadata": {},
   "outputs": [],
   "source": [
    "df.drop(labels=['Auto number', 'Program check','Program name','Annual scholarship?','Date updated','Checked?'],axis=1,inplace=True)\n",
    "df.drop(labels=df[df.Name.isnull() & df.Link.isnull()].index,inplace=True)"
   ]
  },
  {
   "cell_type": "code",
   "execution_count": 6,
   "metadata": {},
   "outputs": [],
   "source": [
    "df.drop(labels=df[df['Deadline?'].isna()].index,inplace=True)"
   ]
  },
  {
   "cell_type": "code",
   "execution_count": 7,
   "metadata": {},
   "outputs": [
    {
     "data": {
      "text/html": [
       "<div>\n",
       "<style scoped>\n",
       "    .dataframe tbody tr th:only-of-type {\n",
       "        vertical-align: middle;\n",
       "    }\n",
       "\n",
       "    .dataframe tbody tr th {\n",
       "        vertical-align: top;\n",
       "    }\n",
       "\n",
       "    .dataframe thead th {\n",
       "        text-align: right;\n",
       "    }\n",
       "</style>\n",
       "<table border=\"1\" class=\"dataframe\">\n",
       "  <thead>\n",
       "    <tr style=\"text-align: right;\">\n",
       "      <th></th>\n",
       "      <th>Name</th>\n",
       "      <th>Type of Opportunity</th>\n",
       "      <th>Study level</th>\n",
       "      <th>Host Country</th>\n",
       "      <th>Discipline</th>\n",
       "      <th>Value</th>\n",
       "      <th>Note</th>\n",
       "      <th>Link</th>\n",
       "      <th>Deadline?</th>\n",
       "    </tr>\n",
       "  </thead>\n",
       "  <tbody>\n",
       "    <tr>\n",
       "      <th>0</th>\n",
       "      <td>Aarhus BS</td>\n",
       "      <td>University-sponsor Scholarship</td>\n",
       "      <td>Master</td>\n",
       "      <td>Denmark</td>\n",
       "      <td>Business and finance</td>\n",
       "      <td>less than 50% tuition fee ,100% tuition fee</td>\n",
       "      <td>NaN</td>\n",
       "      <td>http://bss.au.dk/en/programmes/master/</td>\n",
       "      <td>October</td>\n",
       "    </tr>\n",
       "    <tr>\n",
       "      <th>1</th>\n",
       "      <td>Amandus H. Lundqvist Scholarship Program</td>\n",
       "      <td>University-sponsor Scholarship</td>\n",
       "      <td>Master</td>\n",
       "      <td>Netherland</td>\n",
       "      <td>A LOT OF DISCIPLINES</td>\n",
       "      <td>Full scholarship</td>\n",
       "      <td>Continuation of the scholarship during the two...</td>\n",
       "      <td>https://www.tue.nl/en/studeren/studying-at-tue...</td>\n",
       "      <td>Febuary</td>\n",
       "    </tr>\n",
       "    <tr>\n",
       "      <th>2</th>\n",
       "      <td>Art Major Asian(AMA) Scholarship</td>\n",
       "      <td>University-sponsor Scholarship</td>\n",
       "      <td>Undergraduate ,Master</td>\n",
       "      <td>South Korea</td>\n",
       "      <td>\"Arts, Design and Photography\"</td>\n",
       "      <td>Full scholarship</td>\n",
       "      <td>Ứng viên cần có tài năng về nghệ thuật vượt trội</td>\n",
       "      <td>http://karts.ac.kr:8090/?MID=htmlContent&amp;IDX=375</td>\n",
       "      <td>June</td>\n",
       "    </tr>\n",
       "  </tbody>\n",
       "</table>\n",
       "</div>"
      ],
      "text/plain": [
       "                                       Name             Type of Opportunity  \\\n",
       "0                                 Aarhus BS  University-sponsor Scholarship   \n",
       "1  Amandus H. Lundqvist Scholarship Program  University-sponsor Scholarship   \n",
       "2          Art Major Asian(AMA) Scholarship  University-sponsor Scholarship   \n",
       "\n",
       "              Study level Host Country                      Discipline  \\\n",
       "0                  Master      Denmark            Business and finance   \n",
       "1                  Master   Netherland            A LOT OF DISCIPLINES   \n",
       "2  Undergraduate ,Master   South Korea  \"Arts, Design and Photography\"   \n",
       "\n",
       "                                         Value  \\\n",
       "0  less than 50% tuition fee ,100% tuition fee   \n",
       "1                             Full scholarship   \n",
       "2                             Full scholarship   \n",
       "\n",
       "                                                Note  \\\n",
       "0                                                NaN   \n",
       "1  Continuation of the scholarship during the two...   \n",
       "2   Ứng viên cần có tài năng về nghệ thuật vượt trội   \n",
       "\n",
       "                                                Link Deadline?  \n",
       "0             http://bss.au.dk/en/programmes/master/   October  \n",
       "1  https://www.tue.nl/en/studeren/studying-at-tue...   Febuary  \n",
       "2   http://karts.ac.kr:8090/?MID=htmlContent&IDX=375      June  "
      ]
     },
     "execution_count": 7,
     "metadata": {},
     "output_type": "execute_result"
    }
   ],
   "source": [
    "df.reset_index(drop=True,inplace=True)\n",
    "df.head(3)"
   ]
  },
  {
   "cell_type": "code",
   "execution_count": 8,
   "metadata": {},
   "outputs": [],
   "source": [
    "df['scholarship_id'] = df.index + 1"
   ]
  },
  {
   "cell_type": "code",
   "execution_count": 9,
   "metadata": {},
   "outputs": [
    {
     "data": {
      "text/plain": [
       "0               [October]\n",
       "1               [Febuary]\n",
       "2                  [June]\n",
       "3               [January]\n",
       "4               [October]\n",
       "              ...        \n",
       "1180    [April, November]\n",
       "1181              [April]\n",
       "1182            [October]\n",
       "1183      [May, December]\n",
       "1184           [November]\n",
       "Name: Deadline?, Length: 1185, dtype: object"
      ]
     },
     "execution_count": 9,
     "metadata": {},
     "output_type": "execute_result"
    }
   ],
   "source": [
    "df['Deadline?'].str.split(',')"
   ]
  },
  {
   "cell_type": "code",
   "execution_count": 10,
   "metadata": {},
   "outputs": [],
   "source": [
    "def clean_by_field(field_name):\n",
    "    field = df[field_name].str.split(',')\n",
    "    unique_values = []\n",
    "    for records in field:\n",
    "        try:\n",
    "            unique_values += [i.strip(' ') for i in records]\n",
    "        except:\n",
    "            print('s')\n",
    "    unique_values = set(unique_values)\n",
    "    unique_values\n",
    "    field_df = pd.DataFrame(data=df[field_name], columns=[field_name])\n",
    "    field_df.reset_index()\n",
    "    field_df['scholarship_id'] = field_df.index + 1\n",
    "    lst = []\n",
    "    for value in unique_values:\n",
    "        matched_df = field_df[field_df[field_name].str.contains(value)][['scholarship_id',field_name]]\n",
    "        matched_df[field_name] = value\n",
    "        lst.append(matched_df)\n",
    "\n",
    "    new_field_df = pd.concat(objs=lst, ignore_index=True)\n",
    "    new_field_df['id'] = new_field_df.index + 1\n",
    "    new_field_df = new_field_df[['id','scholarship_id', field_name]]\n",
    "\n",
    "    return new_field_df"
   ]
  },
  {
   "cell_type": "code",
   "execution_count": 11,
   "metadata": {},
   "outputs": [],
   "source": [
    "level_df = clean_by_field('Study level')\n",
    "level_df.rename(mapper={'Study level': 'study_level'},axis=1,inplace=True)\n",
    "level_df.loc[level_df.study_level == 'High school', 'study_level'] = 'Highschool'\n",
    "level_df.loc[level_df.study_level == 'Post-graduate', 'study_level'] = 'Postgraduate'\n",
    "level_df.to_csv('data\\levels.csv',index=False)"
   ]
  },
  {
   "cell_type": "code",
   "execution_count": 12,
   "metadata": {},
   "outputs": [],
   "source": [
    "discipline_df = clean_by_field('Discipline')\n",
    "discipline_df.head()\n",
    "\n",
    "discipline_df.rename(mapper={'Discipline':'discipline'},axis=1,inplace=True)\n",
    "\n",
    "discipline_df.discipline.unique()\n",
    "\n",
    "discipline_df.loc[discipline_df.discipline == 'A LOT OF DISCIPLINES', 'discipline'] = 'Multidisciplinary'\n",
    "discipline_df.loc[discipline_df.discipline == '\"Arts', 'discipline'] = 'Arts Design and Photography'\n",
    "discipline_df.loc[discipline_df.discipline == 'Design and Photography\"', 'discipline'] = 'Arts Design and Photography'\n",
    "discipline_df.loc[discipline_df.discipline == '\"Hospitality', 'discipline'] = 'Hospitality Tourism and Sports'\n",
    "discipline_df.loc[discipline_df.discipline == 'Tourism and Sports\"', 'discipline'] = 'Hospitality Tourism and Sports'\n",
    "discipline_df.to_csv('disciplines.csv', index=False)\n",
    "discipline_df.discipline.unique()\n",
    "deadline_df = clean_by_field('Deadline?')\n",
    "deadline_df.rename(mapper={'Deadline?':'deadline'},axis=1,inplace=True)\n",
    "deadline_df.to_csv('data\\deadlines.csv',index=False)"
   ]
  },
  {
   "cell_type": "code",
   "execution_count": 13,
   "metadata": {},
   "outputs": [
    {
     "name": "stderr",
     "output_type": "stream",
     "text": [
      "C:\\Users\\quanc\\AppData\\Local\\Temp\\ipykernel_9824\\985428034.py:16: UserWarning: This pattern is interpreted as a regular expression, and has match groups. To actually get the groups, use str.extract.\n",
      "  matched_df = field_df[field_df[field_name].str.contains(value)][['scholarship_id',field_name]]\n"
     ]
    }
   ],
   "source": [
    "value_df = clean_by_field('Value')"
   ]
  },
  {
   "cell_type": "code",
   "execution_count": 14,
   "metadata": {},
   "outputs": [],
   "source": [
    "value_df.head(3)\n",
    "value_df.rename(mapper={'Value':'value'},axis=1,inplace=True)\n",
    "value_df.value.unique()\n",
    "value_df.loc[value_df.value == 'Full scholarship','value'] = 'Fullride'\n",
    "value_df.loc[value_df.value == '100% tuition fee','value'] = 'Full tuition'\n",
    "value_df.loc[value_df.value == '50% tuition fee','value'] = 'Half tuition'\n",
    "value_df.loc[value_df.value == 'Cash award','value'] = 'Cash'\n",
    "value_df.loc[value_df.value == 'more than 50% tuition fee','value'] = 'More than half'\n",
    "value_df.loc[value_df.value == 'less than 50% tuition fee','value'] = 'Less than half'\n",
    "value_df.to_csv('data\\\\values.csv',index=False)"
   ]
  },
  {
   "cell_type": "code",
   "execution_count": 15,
   "metadata": {},
   "outputs": [
    {
     "data": {
      "text/html": [
       "<div>\n",
       "<style scoped>\n",
       "    .dataframe tbody tr th:only-of-type {\n",
       "        vertical-align: middle;\n",
       "    }\n",
       "\n",
       "    .dataframe tbody tr th {\n",
       "        vertical-align: top;\n",
       "    }\n",
       "\n",
       "    .dataframe thead th {\n",
       "        text-align: right;\n",
       "    }\n",
       "</style>\n",
       "<table border=\"1\" class=\"dataframe\">\n",
       "  <thead>\n",
       "    <tr style=\"text-align: right;\">\n",
       "      <th></th>\n",
       "      <th>Name</th>\n",
       "      <th>Type of Opportunity</th>\n",
       "      <th>Study level</th>\n",
       "      <th>Host Country</th>\n",
       "      <th>Discipline</th>\n",
       "      <th>Value</th>\n",
       "      <th>Note</th>\n",
       "      <th>Link</th>\n",
       "      <th>Deadline?</th>\n",
       "      <th>scholarship_id</th>\n",
       "    </tr>\n",
       "  </thead>\n",
       "  <tbody>\n",
       "    <tr>\n",
       "      <th>0</th>\n",
       "      <td>Aarhus BS</td>\n",
       "      <td>University-sponsor Scholarship</td>\n",
       "      <td>Master</td>\n",
       "      <td>Denmark</td>\n",
       "      <td>Business and finance</td>\n",
       "      <td>less than 50% tuition fee ,100% tuition fee</td>\n",
       "      <td>NaN</td>\n",
       "      <td>http://bss.au.dk/en/programmes/master/</td>\n",
       "      <td>October</td>\n",
       "      <td>1</td>\n",
       "    </tr>\n",
       "  </tbody>\n",
       "</table>\n",
       "</div>"
      ],
      "text/plain": [
       "        Name             Type of Opportunity Study level Host Country  \\\n",
       "0  Aarhus BS  University-sponsor Scholarship      Master      Denmark   \n",
       "\n",
       "             Discipline                                        Value Note  \\\n",
       "0  Business and finance  less than 50% tuition fee ,100% tuition fee  NaN   \n",
       "\n",
       "                                     Link Deadline?  scholarship_id  \n",
       "0  http://bss.au.dk/en/programmes/master/   October               1  "
      ]
     },
     "execution_count": 15,
     "metadata": {},
     "output_type": "execute_result"
    }
   ],
   "source": [
    "df.head(1)"
   ]
  },
  {
   "cell_type": "code",
   "execution_count": 16,
   "metadata": {},
   "outputs": [
    {
     "name": "stderr",
     "output_type": "stream",
     "text": [
      "C:\\Users\\quanc\\AppData\\Local\\Temp\\ipykernel_9824\\3312111771.py:3: SettingWithCopyWarning: \n",
      "A value is trying to be set on a copy of a slice from a DataFrame\n",
      "\n",
      "See the caveats in the documentation: https://pandas.pydata.org/pandas-docs/stable/user_guide/indexing.html#returning-a-view-versus-a-copy\n",
      "  scholarship_df.rename(mapper={\n"
     ]
    }
   ],
   "source": [
    "scholarship_df = df[['scholarship_id','Name','Type of Opportunity', 'Host Country', 'Link', 'Note']]\n",
    "scholarship_df.head(2)\n",
    "scholarship_df.rename(mapper={\n",
    "    'Name':'name',\n",
    "    'Type of Opportunity': 'sponsor',\n",
    "    'Host Country': 'host',\n",
    "    'Link': 'link',\n",
    "    'Note': 'note'\n",
    "},axis=1,inplace=True)\n",
    "scholarship_df.loc[scholarship_df.sponsor == 'Conference Scholarship', 'sponsor'] = 'Conference'\n",
    "scholarship_df.loc[scholarship_df.sponsor == 'Fellowship Scholarship', 'sponsor'] = 'Fellowship'\n",
    "scholarship_df.loc[scholarship_df.sponsor == 'University-sponsor Scholarship', 'sponsor'] = 'University'\n",
    "scholarship_df.loc[scholarship_df.sponsor == 'Exchange scholarship', 'sponsor'] = 'Exchange'\n",
    "scholarship_df.loc[scholarship_df.sponsor == 'Government Scholarship', 'sponsor'] = 'Government'\n",
    "scholarship_df.loc[scholarship_df.sponsor == 'Company-sponsor Scholarship', 'sponsor'] = 'Company'\n",
    "scholarship_df.loc[scholarship_df.sponsor == 'No specified', 'sponsor'] = 'N/A'\n",
    "scholarship_df.head(2)\n",
    "scholarship_df.to_csv('data\\scholarships.csv',index=False)"
   ]
  },
  {
   "cell_type": "code",
   "execution_count": 17,
   "metadata": {},
   "outputs": [
    {
     "data": {
      "text/plain": [
       "array(['University', 'Exchange', 'Government', 'Fellowship', 'Conference',\n",
       "       'Company', 'N/A'], dtype=object)"
      ]
     },
     "execution_count": 17,
     "metadata": {},
     "output_type": "execute_result"
    }
   ],
   "source": [
    "scholarship_df.sponsor.unique()"
   ]
  },
  {
   "cell_type": "code",
   "execution_count": null,
   "metadata": {},
   "outputs": [],
   "source": []
  }
 ],
 "metadata": {
  "kernelspec": {
   "display_name": "base",
   "language": "python",
   "name": "python3"
  },
  "language_info": {
   "codemirror_mode": {
    "name": "ipython",
    "version": 3
   },
   "file_extension": ".py",
   "mimetype": "text/x-python",
   "name": "python",
   "nbconvert_exporter": "python",
   "pygments_lexer": "ipython3",
   "version": "3.9.13"
  },
  "orig_nbformat": 4,
  "vscode": {
   "interpreter": {
    "hash": "08e8654a3f88786d7fed591f91e0a279c54b0548b2c15e9fc835a3e29bb88427"
   }
  }
 },
 "nbformat": 4,
 "nbformat_minor": 2
}
